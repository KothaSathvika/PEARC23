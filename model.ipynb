{
 "cells": [
  {
   "cell_type": "code",
   "execution_count": 1,
   "id": "bc6e18e2-6e92-4aa3-b3f6-1416824ffe69",
   "metadata": {},
   "outputs": [
    {
     "name": "stderr",
     "output_type": "stream",
     "text": [
      "2023-07-06 15:38:39.255521: I tensorflow/core/platform/cpu_feature_guard.cc:182] This TensorFlow binary is optimized to use available CPU instructions in performance-critical operations.\n",
      "To enable the following instructions: AVX2 FMA, in other operations, rebuild TensorFlow with the appropriate compiler flags.\n"
     ]
    }
   ],
   "source": [
    "import tensorflow as tf\n",
    "import numpy as np\n",
    "import matplotlib.pyplot as plt"
   ]
  },
  {
   "cell_type": "code",
   "execution_count": 2,
   "id": "560ecfa2-5089-43a7-83a9-d3f7abc3af61",
   "metadata": {},
   "outputs": [],
   "source": [
    "import grpc\n",
    "import tritonclient.grpc as grpcclient\n",
    "import tensorflow as tf\n"
   ]
  },
  {
   "cell_type": "code",
   "execution_count": 6,
   "id": "b2f14a17-51e1-4a76-a968-4da7119332e7",
   "metadata": {},
   "outputs": [],
   "source": [
    "triton_server_url = \"<pl\"  \n",
    "triton_client = grpcclient.InferenceServerClient(url=triton_server_url)\n"
   ]
  },
  {
   "cell_type": "code",
   "execution_count": 7,
   "id": "7270176a-7fc4-4de4-a200-edc889bf700f",
   "metadata": {},
   "outputs": [],
   "source": [
    "model_name = \"mnist_model\" \n",
    "model_version = \"1\"  \n"
   ]
  },
  {
   "cell_type": "code",
   "execution_count": 8,
   "id": "51b071f8-3a1d-4be7-b8a8-6f8eca5b5a0d",
   "metadata": {},
   "outputs": [],
   "source": [
    "model_metadata = triton_client.get_model_metadata(model_name=model_name, model_version=model_version)\n",
    "model_config = triton_client.get_model_config(model_name=model_name, model_version=model_version)"
   ]
  },
  {
   "cell_type": "code",
   "execution_count": 9,
   "id": "89c21072-20e2-4d62-b752-db49785cad80",
   "metadata": {},
   "outputs": [],
   "source": [
    "model_inputs = model_metadata.inputs\n",
    "model_outputs = model_metadata.outputs\n",
    "input_name = model_inputs[0].name\n",
    "output_name = model_outputs[0].name\n",
    "input_dtype = model_inputs[0].datatype\n",
    "output_dtype = model_outputs[0].datatype\n",
    "input_shape = list(model_inputs[0].shape)\n",
    "output_shape = model_outputs[0].shape"
   ]
  },
  {
   "cell_type": "code",
   "execution_count": 10,
   "id": "8be440f0-54ce-494f-8ebd-4fc763d4c52d",
   "metadata": {},
   "outputs": [],
   "source": [
    "img = plt.imread(\"img_1.jpg\")"
   ]
  },
  {
   "cell_type": "code",
   "execution_count": 11,
   "id": "dc111165-9110-4a9d-8256-8c849986d7a0",
   "metadata": {},
   "outputs": [
    {
     "data": {
      "text/plain": [
       "(28, 28)"
      ]
     },
     "execution_count": 11,
     "metadata": {},
     "output_type": "execute_result"
    }
   ],
   "source": [
    "img.shape"
   ]
  },
  {
   "cell_type": "code",
   "execution_count": 12,
   "id": "7e19aa52-ebd9-4632-8098-542f17ee4b97",
   "metadata": {},
   "outputs": [],
   "source": [
    "# mnist = tf.keras.datasets.mnist"
   ]
  },
  {
   "cell_type": "code",
   "execution_count": 13,
   "id": "d6fa3f4d-9b77-4926-baa6-a06e67740278",
   "metadata": {},
   "outputs": [],
   "source": [
    "# (x_train, y_train), (x_test, y_test) = mnist.load_data()"
   ]
  },
  {
   "cell_type": "code",
   "execution_count": 14,
   "id": "a59d6dac-dd38-49ba-adee-317660453c41",
   "metadata": {},
   "outputs": [
    {
     "data": {
      "text/plain": [
       "<matplotlib.image.AxesImage at 0x7fde40396430>"
      ]
     },
     "execution_count": 14,
     "metadata": {},
     "output_type": "execute_result"
    },
    {
     "data": {
      "image/png": "[encoded data removed]",
      "text/plain": [
       "<Figure size 640x480 with 1 Axes>"
      ]
     },
     "metadata": {},
     "output_type": "display_data"
    }
   ],
   "source": [
    "plt.imshow(img)"
   ]
  },
  {
   "cell_type": "code",
   "execution_count": 17,
   "id": "0987213c-eae5-40b6-958a-87050a74d0b1",
   "metadata": {},
   "outputs": [
    {
     "data": {
      "text/plain": [
       "(1, 28, 28, 1)"
      ]
     },
     "execution_count": 17,
     "metadata": {},
     "output_type": "execute_result"
    }
   ],
   "source": [
    "input_data = np.expand_dims(img, axis=0)\n",
    "input_data = np.reshape(input_data, (-1, 28, 28, 1))\n",
    "input_data.shape"
   ]
  },
  {
   "cell_type": "code",
   "execution_count": 18,
   "id": "2f9024ab-2cab-415b-93bb-6ec6bf938c09",
   "metadata": {},
   "outputs": [],
   "source": [
    "batch_size = 1"
   ]
  },
  {
   "cell_type": "code",
   "execution_count": 19,
   "id": "a104c5d3-64a8-4cf9-b615-ad59d76ceae3",
   "metadata": {},
   "outputs": [],
   "source": [
    "input_shape[0] = batch_size  # Update the batch size dimension\n",
    "request = grpcclient.InferInput(input_name, input_shape, input_dtype)\n",
    "request.set_data_from_numpy(input_data.astype(np.float32))"
   ]
  },
  {
   "cell_type": "code",
   "execution_count": 20,
   "id": "03898356-d41b-47f6-bc6e-eeb54ee63ddb",
   "metadata": {},
   "outputs": [
    {
     "data": {
      "text/plain": [
       "[1, 28, 28, 1]"
      ]
     },
     "execution_count": 20,
     "metadata": {},
     "output_type": "execute_result"
    }
   ],
   "source": [
    "input_shape"
   ]
  },
  {
   "cell_type": "code",
   "execution_count": 21,
   "id": "beb9fc22-b10d-4bed-8b88-918c0b8e3937",
   "metadata": {},
   "outputs": [],
   "source": [
    "response = triton_client.infer(model_name=model_name, inputs=[request])"
   ]
  },
  {
   "cell_type": "code",
   "execution_count": 22,
   "id": "549fbace-24f0-4c9a-b6b7-18497a2ba08b",
   "metadata": {},
   "outputs": [],
   "source": [
    "output_data = response.as_numpy(output_name)"
   ]
  },
  {
   "cell_type": "code",
   "execution_count": 23,
   "id": "0c4293b9-5075-4eab-8fb8-905620e51b52",
   "metadata": {},
   "outputs": [
    {
     "name": "stdout",
     "output_type": "stream",
     "text": [
      "[[0. 0. 1. 0. 0. 0. 0. 0. 0. 0.]]\n"
     ]
    }
   ],
   "source": [
    "print(output_data)"
   ]
  },
  {
   "cell_type": "code",
   "execution_count": null,
   "id": "4602209e-b65f-4a7a-96e9-bfbbf2da93b0",
   "metadata": {},
   "outputs": [],
   "source": []
  }
 ],
 "metadata": {
  "kernelspec": {
   "display_name": "Python 3 (ipykernel)",
   "language": "python",
   "name": "python3"
  },
  "language_info": {
   "codemirror_mode": {
    "name": "ipython",
    "version": 3
   },
   "file_extension": ".py",
   "mimetype": "text/x-python",
   "name": "python",
   "nbconvert_exporter": "python",
   "pygments_lexer": "ipython3",
   "version": "3.8.10"
  }
 },
 "nbformat": 4,
 "nbformat_minor": 5
}
